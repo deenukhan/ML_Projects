{
  "nbformat": 4,
  "nbformat_minor": 0,
  "metadata": {
    "colab": {
      "name": "EndToEnd_Complete_Diamond.ipynb",
      "provenance": []
    },
    "kernelspec": {
      "name": "python3",
      "display_name": "Python 3"
    }
  },
  "cells": [
    {
      "cell_type": "code",
      "metadata": {
        "id": "bpvOx1F3aSox"
      },
      "source": [
        "#Importing the Labraries\r\n",
        "import pandas as pd"
      ],
      "execution_count": 1,
      "outputs": []
    },
    {
      "cell_type": "code",
      "metadata": {
        "id": "SsqeHZ5_eUNI"
      },
      "source": [
        "# Import pandas and load diamonds.csv\r\n",
        "df = pd.read_csv('/content/drive/MyDrive/Study/Self Study/Swayam/diamond.csv')"
      ],
      "execution_count": 2,
      "outputs": []
    },
    {
      "cell_type": "code",
      "metadata": {
        "colab": {
          "base_uri": "https://localhost:8080/",
          "height": 204
        },
        "id": "IUmAx_7OeVue",
        "outputId": "c099e7ac-6069-432b-ec32-79c7584d9252"
      },
      "source": [
        "df.head(5)"
      ],
      "execution_count": 3,
      "outputs": [
        {
          "output_type": "execute_result",
          "data": {
            "text/html": [
              "<div>\n",
              "<style scoped>\n",
              "    .dataframe tbody tr th:only-of-type {\n",
              "        vertical-align: middle;\n",
              "    }\n",
              "\n",
              "    .dataframe tbody tr th {\n",
              "        vertical-align: top;\n",
              "    }\n",
              "\n",
              "    .dataframe thead th {\n",
              "        text-align: right;\n",
              "    }\n",
              "</style>\n",
              "<table border=\"1\" class=\"dataframe\">\n",
              "  <thead>\n",
              "    <tr style=\"text-align: right;\">\n",
              "      <th></th>\n",
              "      <th>carat</th>\n",
              "      <th>cut</th>\n",
              "      <th>color</th>\n",
              "      <th>clarity</th>\n",
              "      <th>price</th>\n",
              "    </tr>\n",
              "  </thead>\n",
              "  <tbody>\n",
              "    <tr>\n",
              "      <th>0</th>\n",
              "      <td>0.23</td>\n",
              "      <td>Ideal</td>\n",
              "      <td>E</td>\n",
              "      <td>SI2</td>\n",
              "      <td>326</td>\n",
              "    </tr>\n",
              "    <tr>\n",
              "      <th>1</th>\n",
              "      <td>0.21</td>\n",
              "      <td>Premium</td>\n",
              "      <td>E</td>\n",
              "      <td>SI1</td>\n",
              "      <td>326</td>\n",
              "    </tr>\n",
              "    <tr>\n",
              "      <th>2</th>\n",
              "      <td>0.23</td>\n",
              "      <td>Good</td>\n",
              "      <td>E</td>\n",
              "      <td>VS1</td>\n",
              "      <td>327</td>\n",
              "    </tr>\n",
              "    <tr>\n",
              "      <th>3</th>\n",
              "      <td>0.29</td>\n",
              "      <td>Premium</td>\n",
              "      <td>I</td>\n",
              "      <td>VS2</td>\n",
              "      <td>334</td>\n",
              "    </tr>\n",
              "    <tr>\n",
              "      <th>4</th>\n",
              "      <td>0.31</td>\n",
              "      <td>Good</td>\n",
              "      <td>J</td>\n",
              "      <td>SI2</td>\n",
              "      <td>335</td>\n",
              "    </tr>\n",
              "  </tbody>\n",
              "</table>\n",
              "</div>"
            ],
            "text/plain": [
              "   carat      cut color clarity  price\n",
              "0   0.23    Ideal     E     SI2    326\n",
              "1   0.21  Premium     E     SI1    326\n",
              "2   0.23     Good     E     VS1    327\n",
              "3   0.29  Premium     I     VS2    334\n",
              "4   0.31     Good     J     SI2    335"
            ]
          },
          "metadata": {
            "tags": []
          },
          "execution_count": 3
        }
      ]
    },
    {
      "cell_type": "code",
      "metadata": {
        "id": "iFqkOXOFeoZM",
        "colab": {
          "base_uri": "https://localhost:8080/"
        },
        "outputId": "ed3e3406-f7c4-4d21-909a-56808b6d2bdf"
      },
      "source": [
        "#We Have Total 4 features 1 of them is numerical and 3 is categorical feature\r\n",
        "#We ahve 53940 Data points\r\n",
        "df.info()"
      ],
      "execution_count": 4,
      "outputs": [
        {
          "output_type": "stream",
          "text": [
            "(53940, 5)\n",
            "<class 'pandas.core.frame.DataFrame'>\n",
            "RangeIndex: 53940 entries, 0 to 53939\n",
            "Data columns (total 5 columns):\n",
            " #   Column   Non-Null Count  Dtype  \n",
            "---  ------   --------------  -----  \n",
            " 0   carat    53940 non-null  float64\n",
            " 1   cut      53940 non-null  object \n",
            " 2   color    53940 non-null  object \n",
            " 3   clarity  53940 non-null  object \n",
            " 4   price    53940 non-null  int64  \n",
            "dtypes: float64(1), int64(1), object(3)\n",
            "memory usage: 2.1+ MB\n"
          ],
          "name": "stdout"
        }
      ]
    },
    {
      "cell_type": "code",
      "metadata": {
        "colab": {
          "base_uri": "https://localhost:8080/"
        },
        "id": "b43-vfdxb-XB",
        "outputId": "a0a1086e-5bc6-4f2c-e56f-0d2fd0e3df10"
      },
      "source": [
        "df['cut'].value_counts()\r\n",
        "#cut feature has 5 types of values and Ideal is most famous"
      ],
      "execution_count": 5,
      "outputs": [
        {
          "output_type": "execute_result",
          "data": {
            "text/plain": [
              "Ideal        21551\n",
              "Premium      13791\n",
              "Very Good    12082\n",
              "Good          4906\n",
              "Fair          1610\n",
              "Name: cut, dtype: int64"
            ]
          },
          "metadata": {
            "tags": []
          },
          "execution_count": 5
        }
      ]
    },
    {
      "cell_type": "code",
      "metadata": {
        "colab": {
          "base_uri": "https://localhost:8080/"
        },
        "id": "mVXGVpdUc07t",
        "outputId": "f4e19ec9-db6f-43e3-8d26-a06e032e457e"
      },
      "source": [
        "df['color'].value_counts()\r\n",
        "#color feature has 7 types of values and G is most famous"
      ],
      "execution_count": 6,
      "outputs": [
        {
          "output_type": "execute_result",
          "data": {
            "text/plain": [
              "G    11292\n",
              "E     9797\n",
              "F     9542\n",
              "H     8304\n",
              "D     6775\n",
              "I     5422\n",
              "J     2808\n",
              "Name: color, dtype: int64"
            ]
          },
          "metadata": {
            "tags": []
          },
          "execution_count": 6
        }
      ]
    },
    {
      "cell_type": "code",
      "metadata": {
        "colab": {
          "base_uri": "https://localhost:8080/"
        },
        "id": "0Gmxl-O3dD3r",
        "outputId": "9115301b-1c05-48bf-ef6f-c9eba39ae6a6"
      },
      "source": [
        "df['clarity'].value_counts()\r\n",
        "#cut feature has 8 types of values and SI1 is most famous"
      ],
      "execution_count": 7,
      "outputs": [
        {
          "output_type": "execute_result",
          "data": {
            "text/plain": [
              "SI1     13065\n",
              "VS2     12258\n",
              "SI2      9194\n",
              "VS1      8171\n",
              "VVS2     5066\n",
              "VVS1     3655\n",
              "IF       1790\n",
              "I1        741\n",
              "Name: clarity, dtype: int64"
            ]
          },
          "metadata": {
            "tags": []
          },
          "execution_count": 7
        }
      ]
    },
    {
      "cell_type": "code",
      "metadata": {
        "colab": {
          "base_uri": "https://localhost:8080/"
        },
        "id": "2TOtmw15dNWw",
        "outputId": "c9d85fbf-90c5-4d72-81d5-be589afaf0f5"
      },
      "source": [
        "#Now Let's check for Missing values\r\n",
        "df.isnull().sum()\r\n",
        "\r\n",
        "#We don't have any missing values in our data set, but we will be assuming we have and accordingly write code"
      ],
      "execution_count": 8,
      "outputs": [
        {
          "output_type": "execute_result",
          "data": {
            "text/plain": [
              "carat      0\n",
              "cut        0\n",
              "color      0\n",
              "clarity    0\n",
              "price      0\n",
              "dtype: int64"
            ]
          },
          "metadata": {
            "tags": []
          },
          "execution_count": 8
        }
      ]
    },
    {
      "cell_type": "code",
      "metadata": {
        "id": "-Ej2aZW4ewN-"
      },
      "source": [
        "# Let's Split the data into independent and target variables \r\n",
        "# Prep the data for a machine learning model that regresses price on the other features in the DataFrame:\r\n",
        "y = df['price']\r\n",
        "X = df.drop('price', axis=1)\r\n",
        "\r\n",
        "# Now Let's Split the data into Training and testing sets\r\n",
        "from sklearn.model_selection import train_test_split\r\n",
        "X_train, X_test, y_train, y_test = train_test_split(X, y)"
      ],
      "execution_count": 10,
      "outputs": []
    },
    {
      "cell_type": "code",
      "metadata": {
        "id": "WtZjjaKVe4lP"
      },
      "source": [
        "# Now we will be doing some preprocessing\r\n",
        "# Import some preprocessors to deal with those features in the X matrices \r\n",
        "# that contain missing and categorical variables\r\n",
        "from sklearn.impute import SimpleImputer as SI\r\n",
        "from sklearn.preprocessing import LabelBinarizer as LB\r\n",
        "from sklearn.preprocessing import StandardScaler as SS\r\n",
        "\r\n",
        "'''We have techniques LabelEncoder, LabelBinarizer, OneHotEncoder to deal with categorical values\r\n",
        "   Label Encoder Simply gives Number to categories\r\n",
        "   LabelBinarzier and OneHotEncoder converts them into array of 0's and 1's that represents a particular category\r\n",
        "   Both LB and OHE are used for same task but they internally works differently \r\n",
        "   One difference is that LB does not works with Multi column data while OHE works \r\n",
        "    '''\r\n",
        "'''StandardScaler is used for scaling the features, we have standardization (values are standarized around the mean) \r\n",
        "   and normalization also known as Min Max Scaling (scaling down values between 0 to 1) \r\n",
        "'''\r\n",
        "\r\n",
        "# Use a DataFrameMapper to organize the preprocessing feature transformations in a single object:\r\n",
        "from sklearn_pandas import DataFrameMapper\r\n",
        "\r\n",
        "mapper = DataFrameMapper([\r\n",
        "    (['cut'], [SI(strategy='most_frequent'), LB()]),\r\n",
        "    (['color'], [SI(strategy='most_frequent'), LB()]),\r\n",
        "    (['clarity'], [SI(strategy='most_frequent'), LB()]),\r\n",
        "    (['carat'], [SI(strategy='mean'), SS()]),\r\n",
        "], df_out=True)\r\n",
        "\r\n",
        "# from sklearn.preprocessing import OneHotEncoder as OHE\r\n",
        "# mapper = DataFrameMapper([\r\n",
        "#         (['cut', 'color', 'clarity'], [SI(strategy='most_frequent'), OHE()]),\r\n",
        "#         (['carat'], [SI(strategy = 'mean'), SS()])], df_out = True)\r\n",
        "\r\n",
        "# DataFrameMapper chains together a list of feature transformations for each \r\n",
        "# column in a single place. The object behaves as though \r\n",
        "# it's a scikit-learn transformer which is a real bonus!\r\n",
        "\r\n",
        "# Fit the mapper and transform the features:\r\n",
        "Z_train = mapper.fit_transform(X_train)\r\n",
        "Z_test = mapper.transform(X_test)"
      ],
      "execution_count": 49,
      "outputs": []
    },
    {
      "cell_type": "code",
      "metadata": {
        "colab": {
          "base_uri": "https://localhost:8080/"
        },
        "id": "aueke-pmfaMZ",
        "outputId": "84632fc2-032a-4bf6-a220-b1ddab69abb7"
      },
      "source": [
        "# Model\r\n",
        "# With feature transformations complete, let's build a model. Import a regressor from sklearn:\r\n",
        "from sklearn.linear_model import LinearRegression\r\n",
        "\r\n",
        "# Fit it to the generated Z_train object:\r\n",
        "model = LinearRegression()\r\n",
        "model.fit(Z_train, y_train)\r\n",
        "\r\n",
        "# And score to confirm that everything works:\r\n",
        "model.score(Z_test, y_test)"
      ],
      "execution_count": 50,
      "outputs": [
        {
          "output_type": "execute_result",
          "data": {
            "text/plain": [
              "0.9155514997544354"
            ]
          },
          "metadata": {
            "tags": []
          },
          "execution_count": 50
        }
      ]
    },
    {
      "cell_type": "code",
      "metadata": {
        "colab": {
          "base_uri": "https://localhost:8080/"
        },
        "id": "RfHtzn3Bfdj5",
        "outputId": "02e2b3cd-d15e-4129-ee1c-ec2fae740157"
      },
      "source": [
        "# Pipe\r\n",
        "# While mapper and model are working, it's better if both are fit to a single, unified object.\r\n",
        "# Combine the two objects into a scikit-learn pipeline with the make_pipeline function:\r\n",
        "from sklearn.pipeline import make_pipeline\r\n",
        "pipe = make_pipeline(mapper, model)\r\n",
        "\r\n",
        "# Fit the new pipe object:\r\n",
        "pipe.fit(X_train, y_train)\r\n",
        "# Score it as though it were a scikit-learn estimator:\r\n",
        "print(pipe.score(X_test, y_test))\r\n",
        "\r\n",
        "# And confirm that the unified pipe object can handle a new, unseen, diamond:\r\n",
        "new = pd.DataFrame({\r\n",
        "    'carat': [2],\r\n",
        "    'cut': ['Ideal'],\r\n",
        "    'color': ['E'],\r\n",
        "    'clarity': ['VVS1'],\r\n",
        "})\r\n",
        "\r\n",
        "print(pipe.predict(new))"
      ],
      "execution_count": null,
      "outputs": [
        {
          "output_type": "stream",
          "text": [
            "0.9170453756606453\n",
            "[16270.]\n"
          ],
          "name": "stdout"
        }
      ]
    },
    {
      "cell_type": "code",
      "metadata": {
        "id": "3gk6U-bHf8-J"
      },
      "source": [
        "# Pickle\r\n",
        "# With mapper and model contained in a single object, it's super easy to serialize (read: save) the pipeline.\r\n",
        "# Import pickle to start serialization process:\r\n",
        "import pickle\r\n",
        "\r\n",
        "# Dump the python objection with pickle.dump:\r\n",
        "pickle.dump(pipe, open('pipe.pkl', 'wb'))\r\n",
        "# reload the pipeline with pickle.load:\r\n",
        "new_pipe = pickle.load(open('pipe.pkl', 'rb'))\r\n",
        "# And confirm that the pipeline still works:\r\n",
        "new_pipe.predict(new)[0]"
      ],
      "execution_count": null,
      "outputs": []
    }
  ]
}