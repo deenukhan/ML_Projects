{
  "nbformat": 4,
  "nbformat_minor": 0,
  "metadata": {
    "colab": {
      "name": "Chaper_3_Classification.ipynb",
      "provenance": []
    },
    "kernelspec": {
      "name": "python3",
      "display_name": "Python 3"
    }
  },
  "cells": [
    {
      "cell_type": "code",
      "metadata": {
        "id": "cyocN-zI9KbZ"
      },
      "source": [
        "import pandas as pd\r\n",
        "import numpy as np\r\n",
        "import matplotlib as mplib\r\n",
        "import matplotlib.pyplot as plt"
      ],
      "execution_count": 1,
      "outputs": []
    },
    {
      "cell_type": "code",
      "metadata": {
        "colab": {
          "base_uri": "https://localhost:8080/"
        },
        "id": "FfNAPcOuOP9R",
        "outputId": "72c872d5-00d9-4708-bf73-fabc6952ccaa"
      },
      "source": [
        "# Scikit-Learn provides many helper functions to download popular datasets. \r\n",
        "# MNIST is one of them. The following code fetches the MNIST dataset\r\n",
        "# MNIST dataset, which is a set of 70,000 small images of digits handwritten \r\n",
        "# by high school students and employees of the US Census Bureau\r\n",
        "from sklearn.datasets import fetch_openml\r\n",
        "mnist = fetch_openml('mnist_784', version=1)\r\n",
        "mnist.keys()  \r\n",
        "#mnist.data\r\n",
        "#mnist.target"
      ],
      "execution_count": 2,
      "outputs": [
        {
          "output_type": "execute_result",
          "data": {
            "text/plain": [
              "dict_keys(['data', 'target', 'frame', 'feature_names', 'target_names', 'DESCR', 'details', 'categories', 'url'])"
            ]
          },
          "metadata": {
            "tags": []
          },
          "execution_count": 2
        }
      ]
    },
    {
      "cell_type": "code",
      "metadata": {
        "colab": {
          "base_uri": "https://localhost:8080/"
        },
        "id": "KqCukgfCOn99",
        "outputId": "975164b1-9b90-489f-f9d5-cdea9b20c585"
      },
      "source": [
        "#Let's store data and target variable\r\n",
        "X = mnist.data\r\n",
        "y = mnist.target\r\n",
        "X.shape, y.shape    "
      ],
      "execution_count": 3,
      "outputs": [
        {
          "output_type": "execute_result",
          "data": {
            "text/plain": [
              "((70000, 784), (70000,))"
            ]
          },
          "metadata": {
            "tags": []
          },
          "execution_count": 3
        }
      ]
    },
    {
      "cell_type": "code",
      "metadata": {
        "colab": {
          "base_uri": "https://localhost:8080/",
          "height": 248
        },
        "id": "19XeaFaCMvHt",
        "outputId": "eee4a8f4-21d3-4262-938c-ba286c519e2c"
      },
      "source": [
        "#Let's Just checkout a random digit\r\n",
        "digit = X[30]\r\n",
        "digit = digit.reshape(28, 28)\r\n",
        "\r\n",
        "plt.imshow(digit, cmap = 'binary')\r\n",
        "plt.axis('off')\r\n",
        "plt.show()"
      ],
      "execution_count": 5,
      "outputs": [
        {
          "output_type": "display_data",
          "data": {
            "image/png": "[encoded data removed]",
            "text/plain": [
              "<Figure size 432x288 with 1 Axes>"
            ]
          },
          "metadata": {
            "tags": [],
            "needs_background": "light"
          }
        }
      ]
    },
    {
      "cell_type": "code",
      "metadata": {
        "colab": {
          "base_uri": "https://localhost:8080/"
        },
        "id": "fXg1lkzaMxLI",
        "outputId": "26331f1d-d709-460f-9275-9deb4471c8a8"
      },
      "source": [
        "#Now Let's confirm with label itself\r\n",
        "print(y[30])\r\n",
        "print(type(y[30]))\r\n",
        "#Here we can see that type of the label is str, but here we need it as integer\r\n",
        "#So let's cast it to Integer\r\n",
        "y = y.astype(np.uint8)\r\n",
        "print(type(y[30]))"
      ],
      "execution_count": 4,
      "outputs": [
        {
          "output_type": "stream",
          "text": [
            "3\n",
            "<class 'str'>\n",
            "<class 'numpy.uint8'>\n"
          ],
          "name": "stdout"
        }
      ]
    },
    {
      "cell_type": "code",
      "metadata": {
        "id": "n0BULNHJ64Qt"
      },
      "source": [
        "# We don't need to use train test split for this dataset s\r\n",
        "# The MNIST dataset is actually already split into a training set \r\n",
        "# (the first 60,000 images) and a test set (the last 10,000 images)\r\n",
        "X_train, X_test, y_train, y_test = X[:60000], X[60000:], y[:60000], y[60000:]\r\n",
        "\r\n",
        "# Training a Binary Classifier\r\n",
        "# For now let's simply the problem and will be working with binary classifier only\r\n",
        "# Let's just say either 5 or not 5\r\n",
        "y_train_5 = (y_train == 5)\r\n",
        "y_test_5 = (y_test == 5)"
      ],
      "execution_count": 5,
      "outputs": []
    },
    {
      "cell_type": "code",
      "metadata": {
        "colab": {
          "base_uri": "https://localhost:8080/"
        },
        "id": "M-X_aWSrAqWA",
        "outputId": "69732bac-1c6f-48dc-f6a1-ea35377d6dcd"
      },
      "source": [
        "#Let's Check out the data imabancity\r\n",
        "sum(y_train_5)\r\n",
        "\r\n",
        "#Here we can see the out of 60K values we only have 5421 values as 5 \r\n",
        "#It mean's our data is highly imbalanced"
      ],
      "execution_count": 48,
      "outputs": [
        {
          "output_type": "execute_result",
          "data": {
            "text/plain": [
              "5421"
            ]
          },
          "metadata": {
            "tags": []
          },
          "execution_count": 48
        }
      ]
    },
    {
      "cell_type": "code",
      "metadata": {
        "colab": {
          "base_uri": "https://localhost:8080/"
        },
        "id": "X8Hev8GN_Wng",
        "outputId": "ea728fbf-840a-42a4-b1df-ab71d3ea74df"
      },
      "source": [
        "#for this experiment we will be using SGDClassifier\r\n",
        "from sklearn.linear_model import SGDClassifier\r\n",
        "sgd_clf = SGDClassifier(random_state = 12)\r\n",
        "sgd_clf.fit(X_train, y_train_5)\r\n"
      ],
      "execution_count": 6,
      "outputs": [
        {
          "output_type": "execute_result",
          "data": {
            "text/plain": [
              "SGDClassifier(alpha=0.0001, average=False, class_weight=None,\n",
              "              early_stopping=False, epsilon=0.1, eta0=0.0, fit_intercept=True,\n",
              "              l1_ratio=0.15, learning_rate='optimal', loss='hinge',\n",
              "              max_iter=1000, n_iter_no_change=5, n_jobs=None, penalty='l2',\n",
              "              power_t=0.5, random_state=12, shuffle=True, tol=0.001,\n",
              "              validation_fraction=0.1, verbose=0, warm_start=False)"
            ]
          },
          "metadata": {
            "tags": []
          },
          "execution_count": 6
        }
      ]
    },
    {
      "cell_type": "code",
      "metadata": {
        "colab": {
          "base_uri": "https://localhost:8080/"
        },
        "id": "Lo_wzKfY_h1I",
        "outputId": "1e104a6f-7807-4bc8-ffcd-e18aba738d4a"
      },
      "source": [
        "#Now When we have trained our model let's check the performance of the model\r\n",
        "from sklearn.metrics import accuracy_score, confusion_matrix\r\n",
        "from sklearn.metrics import f1_score, precision_score, recall_score, roc_auc_score\r\n",
        "\r\n",
        "print(accuracy_score(y_test_5, sgd_clf.predict(X_test)))\r\n",
        "#Here we can see that our accuracy is over 94%, and that is quite great"
      ],
      "execution_count": 8,
      "outputs": [
        {
          "output_type": "stream",
          "text": [
            "0.9668\n"
          ],
          "name": "stdout"
        }
      ]
    },
    {
      "cell_type": "code",
      "metadata": {
        "id": "4U99GjBwgxl1"
      },
      "source": [
        "y_pred = sgd_clf.predict(X_test)"
      ],
      "execution_count": 52,
      "outputs": []
    },
    {
      "cell_type": "code",
      "metadata": {
        "colab": {
          "base_uri": "https://localhost:8080/"
        },
        "id": "yvcm09TuAAYF",
        "outputId": "e1efbcb2-1f3f-443f-d7d2-c7676ea9d5e8"
      },
      "source": [
        "print(\"*******Confusion Matrix***************\\n\", confusion_matrix(y_test_5, y_pred))\r\n",
        "#Let's Class 5 is Positive Class and Non-5 is negative Class\r\n",
        "#Now we can notice one thing, recall of this model is less, but precision is good\r\n",
        "#Now, Let's verify the above point\r\n",
        "print(\"\\nPrecision = \", precision_score(y_test_5, y_pred))\r\n",
        "print(\"Recall = \", recall_score(y_test_5, y_pred))\r\n",
        "print(\"F1-Score = \", f1_score(y_test_5, y_pred))\r\n",
        "#Now From the below fact, we can discuss few things\r\n",
        "#Like When we saw accuracy it was high, but now When we have seen F1 Score, we can say \r\n",
        "#Accuracy doesn't seem to be the right or promising choice as Performance Measure\r\n",
        "#After Confusion Matrix, Lot of things are clearer like where our model is performing Bad\r\n",
        "#Sometimes, we may want the higher precsion but doesn't care much about the Recall and\r\n",
        "#In that case we will see later how we are gonna tune for increasing the precision or recall\r\n",
        "#And when we care about both Precision and Recall we may wanna use F1-Score as Performance Measure"
      ],
      "execution_count": 58,
      "outputs": [
        {
          "output_type": "stream",
          "text": [
            "*******Confusion Matrix***************\n",
            " [[9046   62]\n",
            " [ 270  622]]\n",
            "\n",
            "Precision =  0.9093567251461988\n",
            "Recall =  0.6973094170403588\n",
            "F1-Score =  0.7893401015228426\n"
          ],
          "name": "stdout"
        }
      ]
    },
    {
      "cell_type": "code",
      "metadata": {
        "colab": {
          "base_uri": "https://localhost:8080/"
        },
        "id": "3jZTQMQDf95e",
        "outputId": "fb2332d4-c0ff-4ccc-e187-fa1741a8aaeb"
      },
      "source": [
        "#Now Let's See How we can increase the Precision or Recall\r\n",
        "#As of Now, the threshold for predicting 5 or Non-5 is 0.5\r\n",
        "#But we can set it and check the affect on Precision and Recall\r\n",
        "#SKlearn don't let change us the threhsold value directly but we can do it by a function\r\n",
        "y_scores = sgd_clf.decision_function(X_test)\r\n",
        "#By default SGD uses 0 as threshold, now let's verify this\r\n",
        "#We are using 0 as threshold manually and default prediction values and see the result\r\n",
        "print(accuracy_score(y_test_5, (y_scores>0)), accuracy_score(y_test_5, sgd_clf.predict(X_test)))\r\n",
        "#And we can see that results are identical\r\n",
        "#Now Let's Increase the Recall, we have to decrease the threshold for that\r\n",
        "y_pred_ts = (y_scores>-1000)\r\n",
        "print(accuracy_score(y_test_5, y_pred_ts))\r\n",
        "print(\"\\nPrecision = \", precision_score(y_test_5, y_pred_ts))\r\n",
        "print(\"Recall = \", recall_score(y_test_5, y_pred_ts))\r\n",
        "#Here we can clearly see the difference, Now Recall has been increased but the Precision has decreased\r\n",
        "#and Now comes the Tradeoff between Precision and Recall, that totaly depends on the requirement\r\n",
        "#If we want to increase the Precision we can increase the threshold"
      ],
      "execution_count": 9,
      "outputs": [
        {
          "output_type": "stream",
          "text": [
            "0.9668 0.9668\n",
            "0.9685\n",
            "\n",
            "Precision =  0.8358556461001164\n",
            "Recall =  0.804932735426009\n"
          ],
          "name": "stdout"
        }
      ]
    },
    {
      "cell_type": "code",
      "metadata": {
        "id": "66Pyw5M9vhxs"
      },
      "source": [
        "#Now Let's Plot the Precision and Recall curver for each threshold\r\n",
        "#Just to select the best threshold \r\n",
        "from sklearn.metrics import precision_recall_curve\r\n",
        "precisions, recals, thresholds = precision_recall_curve(y_test_5, y_scores)"
      ],
      "execution_count": 74,
      "outputs": []
    },
    {
      "cell_type": "code",
      "metadata": {
        "colab": {
          "base_uri": "https://localhost:8080/",
          "height": 265
        },
        "id": "H3fHwR__wf_G",
        "outputId": "ee419953-bfeb-4dc3-de0e-9ef143c483f6"
      },
      "source": [
        "#Now Let's Print the Curve with the help of Matplotlib\r\n",
        "plt.plot(thresholds, precisions[:-1], \"b--\", label = \"Precision\")\r\n",
        "plt.plot(thresholds, recals[:-1], \"g-\", label = 'Recall')\r\n",
        "plt.show()"
      ],
      "execution_count": 79,
      "outputs": [
        {
          "output_type": "display_data",
          "data": {
            "image/png": "[encoded data removed]",
            "text/plain": [
              "<Figure size 432x288 with 1 Axes>"
            ]
          },
          "metadata": {
            "tags": [],
            "needs_background": "light"
          }
        }
      ]
    },
    {
      "cell_type": "code",
      "metadata": {
        "colab": {
          "base_uri": "https://localhost:8080/"
        },
        "id": "OupoYwCJz-0h",
        "outputId": "b392c5b5-8edf-430e-8b99-2f0217b32133"
      },
      "source": [
        "#Now Let's say you have decide to go with 80% Precision\r\n",
        "#So Now all we have to do is find the threshold which gives 80% Precision\r\n",
        "threshold_80 = thresholds[np.argmax(precisions >= 0.80)]\r\n",
        "print(threshold_80)\r\n",
        "print(\"\\nPrecision = \", precision_score(y_test_5, (y_scores>-1437.75)))"
      ],
      "execution_count": 83,
      "outputs": [
        {
          "output_type": "stream",
          "text": [
            "-1437.7587254199257\n",
            "\n",
            "Precision =  0.801063829787234\n"
          ],
          "name": "stdout"
        }
      ]
    },
    {
      "cell_type": "code",
      "metadata": {
        "id": "4jRPGAzIhLqv"
      },
      "source": [
        "# ROC Curve\r\n",
        "#ROC curve is the curve between TPR anf FPR\r\n",
        "from sklearn.metrics import roc_curve\r\n",
        "fpr, tpr, thresholds = roc_curve(y_test_5, y_scores)"
      ],
      "execution_count": 10,
      "outputs": []
    },
    {
      "cell_type": "code",
      "metadata": {
        "colab": {
          "base_uri": "https://localhost:8080/",
          "height": 296
        },
        "id": "NsoTQA3tkfvN",
        "outputId": "ba508940-d659-4a49-f1b8-3d98c3209f58"
      },
      "source": [
        "#We can plot the ROC curve and again there would be a tradeoff between TPR and FPR\r\n",
        "#from the below Graph we can see that higher the TPR(Recall), higher the FPR\r\n",
        "#A good model will be far away as much as possible from the dotted line towards the left-upper corner\r\n",
        "#\r\n",
        "plt.plot(fpr, tpr, linewidth=2, label='ROC')\r\n",
        "plt.plot([0, 1], [0, 1], 'k--')\r\n",
        "plt.xlabel(\"False Positive Rate\")\r\n",
        "plt.ylabel(\"True Positive Rate\")"
      ],
      "execution_count": 13,
      "outputs": [
        {
          "output_type": "execute_result",
          "data": {
            "text/plain": [
              "Text(0, 0.5, 'True Positive Rate')"
            ]
          },
          "metadata": {
            "tags": []
          },
          "execution_count": 13
        },
        {
          "output_type": "display_data",
          "data": {
            "image/png": "[encoded data removed]",
            "text/plain": [
              "<Figure size 432x288 with 1 Axes>"
            ]
          },
          "metadata": {
            "tags": [],
            "needs_background": "light"
          }
        }
      ]
    },
    {
      "cell_type": "code",
      "metadata": {
        "colab": {
          "base_uri": "https://localhost:8080/"
        },
        "id": "h4_anuDNK_nq",
        "outputId": "b77af2c3-70ae-4e41-e9ef-5dc800b503ba"
      },
      "source": [
        "#While comparing the Models we can calculate the AUC(Area Under the curve)\r\n",
        "#The Model with Higher AUC is good\r\n",
        "from sklearn.metrics import roc_auc_score\r\n",
        "roc_auc_score(y_test_5, y_scores)"
      ],
      "execution_count": 14,
      "outputs": [
        {
          "output_type": "execute_result",
          "data": {
            "text/plain": [
              "0.9708728196371986"
            ]
          },
          "metadata": {
            "tags": []
          },
          "execution_count": 14
        }
      ]
    },
    {
      "cell_type": "code",
      "metadata": {
        "id": "OrFYL4sKMirS"
      },
      "source": [
        ""
      ],
      "execution_count": null,
      "outputs": []
    }
  ]
}